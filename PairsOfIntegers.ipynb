{
 "cells": [
  {
   "cell_type": "markdown",
   "metadata": {},
   "source": [
    "### Initialising the values"
   ]
  },
  {
   "cell_type": "code",
   "execution_count": 92,
   "metadata": {},
   "outputs": [],
   "source": [
    "List = []\n",
    "number = 1"
   ]
  },
  {
   "cell_type": "markdown",
   "metadata": {},
   "source": [
    "### Input from the user"
   ]
  },
  {
   "cell_type": "code",
   "execution_count": 93,
   "metadata": {},
   "outputs": [
    {
     "name": "stdout",
     "output_type": "stream",
     "text": [
      "Enter the positive integer values, hit enter without any value to exit4\n",
      "Enter the positive integer values, hit enter without any value to exit-2\n",
      "Enter the positive integer values, hit enter without any value to exit4\n",
      "Enter the positive integer values, hit enter without any value to exit6\n",
      "Enter the positive integer values, hit enter without any value to exit0\n",
      "Enter the positive integer values, hit enter without any value to exit\n"
     ]
    }
   ],
   "source": [
    "while(int(number) != ''):\n",
    "    number = input(\"Enter the positive integer values, hit enter without any value to exit\")\n",
    "    if(number == ''):\n",
    "        break\n",
    "    elif(int(number) >= 0 or int(number) < 0):\n",
    "        List.append(number)"
   ]
  },
  {
   "cell_type": "markdown",
   "metadata": {},
   "source": [
    "### Finding the pairs from the integers whose sum is equal to first number"
   ]
  },
  {
   "cell_type": "code",
   "execution_count": 94,
   "metadata": {},
   "outputs": [],
   "source": [
    "pair = []\n",
    "## Outer loop\n",
    "for i in range(len(List) - 1):\n",
    "    j = i\n",
    "    ## Inner loop\n",
    "    while(j < len(List) - 2):\n",
    "        sumOfPairs = int(List[i + 1]) + int(List[j + 2])\n",
    "        if(int(List[0]) == sumOfPairs):\n",
    "            pairs = []\n",
    "            pairs.append(int(List[i + 1]))\n",
    "            pairs.append(int(List[j + 2]))\n",
    "            if(pair.count(pairs) == 0):\n",
    "                pair.append(pairs)\n",
    "        j = j + 1"
   ]
  },
  {
   "cell_type": "markdown",
   "metadata": {},
   "source": [
    "### To print the pairs"
   ]
  },
  {
   "cell_type": "code",
   "execution_count": 95,
   "metadata": {},
   "outputs": [
    {
     "name": "stdout",
     "output_type": "stream",
     "text": [
      "[[-2, 6], [4, 0]]\n"
     ]
    }
   ],
   "source": [
    "print(pair)"
   ]
  }
 ],
 "metadata": {
  "kernelspec": {
   "display_name": "Python 3",
   "language": "python",
   "name": "python3"
  },
  "language_info": {
   "codemirror_mode": {
    "name": "ipython",
    "version": 3
   },
   "file_extension": ".py",
   "mimetype": "text/x-python",
   "name": "python",
   "nbconvert_exporter": "python",
   "pygments_lexer": "ipython3",
   "version": "3.6.4"
  }
 },
 "nbformat": 4,
 "nbformat_minor": 2
}
